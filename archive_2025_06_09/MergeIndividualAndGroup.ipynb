{
 "cells": [
  {
   "cell_type": "code",
   "execution_count": 1,
   "id": "c3411837",
   "metadata": {},
   "outputs": [],
   "source": [
    "import os\n",
    "import pandas\n",
    "import numpy as np\n",
    "import torch\n",
    "import matplotlib.pyplot as plt\n",
    "import hcpdatautils as hcp"
   ]
  },
  {
   "cell_type": "code",
   "execution_count": 2,
   "id": "e6e59b9b",
   "metadata": {},
   "outputs": [],
   "source": [
    "int_type = torch.int\n",
    "float_type = torch.float\n",
    "device = torch.device('cuda')"
   ]
  },
  {
   "cell_type": "code",
   "execution_count": 3,
   "id": "48782091",
   "metadata": {},
   "outputs": [],
   "source": [
    "data_dir = 'E:\\\\Ising_model_results_daai'\n",
    "model_dir = 'C:\\\\Users\\\\agcraig\\\\Documents\\\\IsingModelTemp'"
   ]
  },
  {
   "cell_type": "code",
   "execution_count": 6,
   "id": "734a64c7",
   "metadata": {},
   "outputs": [
    {
     "name": "stdout",
     "output_type": "stream",
     "text": [
      "individual_mean_state size torch.Size([837, 360])\n",
      "individual_mean_state_product size torch.Size([837, 64620])\n"
     ]
    }
   ],
   "source": [
    "individual_file_suffix = 'individual_all.pt'\n",
    "individual_mean_state_file = os.path.join(data_dir, f'mean_state_{individual_file_suffix}')\n",
    "individual_mean_state = torch.load(individual_mean_state_file)\n",
    "print( 'individual_mean_state size', individual_mean_state.size() )\n",
    "individual_mean_state_product_file = os.path.join(data_dir, f'mean_state_product_{individual_file_suffix}')\n",
    "individual_mean_state_product = torch.load(individual_mean_state_product_file)\n",
    "print( 'individual_mean_state_product size', individual_mean_state_product.size() )"
   ]
  },
  {
   "cell_type": "code",
   "execution_count": 7,
   "id": "118836fd",
   "metadata": {},
   "outputs": [
    {
     "name": "stdout",
     "output_type": "stream",
     "text": [
      "group_mean_state size torch.Size([1, 360])\n",
      "group_mean_state_product size torch.Size([1, 64620])\n"
     ]
    }
   ],
   "source": [
    "group_file_suffix = 'group_training.pt'\n",
    "group_mean_state_file = os.path.join(data_dir, f'mean_state_{group_file_suffix}')\n",
    "group_mean_state = torch.load(group_mean_state_file)\n",
    "print( 'group_mean_state size', group_mean_state.size() )\n",
    "group_mean_state_product_file = os.path.join(data_dir, f'mean_state_product_{group_file_suffix}')\n",
    "group_mean_state_product = torch.load(group_mean_state_product_file)\n",
    "print( 'group_mean_state_product size', group_mean_state_product.size() )"
   ]
  },
  {
   "cell_type": "code",
   "execution_count": 8,
   "id": "b8ba3b89",
   "metadata": {},
   "outputs": [],
   "source": [
    "combined_file_suffix = 'group_training_and_individual_all.pt'\n",
    "combined_mean_state = torch.cat( (group_mean_state, individual_mean_state), dim=0 )\n",
    "combined_mean_state_file = os.path.join(data_dir, f'mean_state_{combined_file_suffix}')\n",
    "torch.save(obj=combined_mean_state, f=combined_mean_state_file)\n",
    "combined_mean_state_product = torch.cat( (group_mean_state_product, individual_mean_state_product), dim=0 )\n",
    "combined_mean_state_product_file = os.path.join(data_dir, f'mean_state_product_{combined_file_suffix}')\n",
    "torch.save(obj=combined_mean_state_product, f=combined_mean_state_product_file)"
   ]
  },
  {
   "cell_type": "code",
   "execution_count": null,
   "id": "a09b62c4",
   "metadata": {},
   "outputs": [],
   "source": []
  }
 ],
 "metadata": {
  "kernelspec": {
   "display_name": "Python 3 (ipykernel)",
   "language": "python",
   "name": "python3"
  },
  "language_info": {
   "codemirror_mode": {
    "name": "ipython",
    "version": 3
   },
   "file_extension": ".py",
   "mimetype": "text/x-python",
   "name": "python",
   "nbconvert_exporter": "python",
   "pygments_lexer": "ipython3",
   "version": "3.10.11"
  }
 },
 "nbformat": 4,
 "nbformat_minor": 5
}
