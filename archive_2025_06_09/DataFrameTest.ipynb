{
 "cells": [
  {
   "cell_type": "code",
   "execution_count": 32,
   "id": "100f888e",
   "metadata": {},
   "outputs": [],
   "source": [
    "import pandas\n",
    "import time\n",
    "import torch\n",
    "import math\n",
    "from graph2graphcnn import UniformGraph2GraphCNN\n",
    "from graph2graphcnn import GraphMSELoss"
   ]
  },
  {
   "cell_type": "code",
   "execution_count": 2,
   "id": "219f114c",
   "metadata": {},
   "outputs": [
    {
     "name": "stdout",
     "output_type": "stream",
     "text": [
      "Empty DataFrame\n",
      "Columns: [coordtype, batchsize, graphconvolutions, mlplayers, repdims, optimizer, learningrate, trainingrmse, validationrmse, time]\n",
      "Index: []\n"
     ]
    }
   ],
   "source": [
    "losses_df = pandas.DataFrame({'coordtype':pandas.Series(dtype='str'), 'batchsize':pandas.Series(dtype='int'), 'graphconvolutions':pandas.Series(dtype='int'), 'mlplayers':pandas.Series(dtype='int'), 'repdims':pandas.Series(dtype='int'), 'optimizer':pandas.Series(dtype='str'), 'learningrate':pandas.Series(dtype='float'), 'trainingrmse':pandas.Series(dtype='float'), 'validationrmse':pandas.Series(dtype='float'), 'time':pandas.Series(dtype='float')})\n",
    "print(losses_df)"
   ]
  },
  {
   "cell_type": "code",
   "execution_count": 3,
   "id": "e220f4b8",
   "metadata": {},
   "outputs": [
    {
     "name": "stdout",
     "output_type": "stream",
     "text": [
      "     coordtype  batchsize  graphconvolutions  mlplayers  repdims optimizer  \\\n",
      "0  rectangular          0                  0          0        0      Adam   \n",
      "1  rectangular          0                  0          0        0      Adam   \n",
      "2  rectangular          0                  0          0        0      Adam   \n",
      "3  rectangular          0                  0          0        0      Adam   \n",
      "4  rectangular          0                  0          0        0      Adam   \n",
      "5  rectangular          0                  0          0        0      Adam   \n",
      "6  rectangular          0                  0          0        0      Adam   \n",
      "7  rectangular          0                  0          0        0      Adam   \n",
      "8  rectangular          0                  0          0        0      Adam   \n",
      "9  rectangular          0                  0          0        0      Adam   \n",
      "\n",
      "   learningrate  trainingrmse  validationrmse  time  \n",
      "0         0.001           0.0             0.0  -1.0  \n",
      "1         0.001           0.0             0.0  -1.0  \n",
      "2         0.001           0.0             0.0  -1.0  \n",
      "3         0.001           0.0             0.0  -1.0  \n",
      "4         0.001           0.0             0.0  -1.0  \n",
      "5         0.001           0.0             0.0  -1.0  \n",
      "6         0.001           0.0             0.0  -1.0  \n",
      "7         0.001           0.0             0.0  -1.0  \n",
      "8         0.001           0.0             0.0  -1.0  \n",
      "9         0.001           0.0             0.0  -1.0  \n"
     ]
    }
   ],
   "source": [
    "coordinate_type_name = 'rectangular'\n",
    "batch_size = 0\n",
    "graph_convolution_layers = 0\n",
    "mlp_hidden_layers = 0\n",
    "rep_dims = 0\n",
    "optimizer_name = 'Adam'\n",
    "learning_rate = 0.001\n",
    "for i in range(10):\n",
    "    dfrow = pandas.DataFrame({'coordtype':coordinate_type_name, 'batchsize':batch_size, 'graphconvolutions':graph_convolution_layers, 'mlplayers':mlp_hidden_layers, 'repdims':rep_dims, 'optimizer':optimizer_name, 'learningrate':learning_rate, 'trainingrmse':0.0, 'validationrmse':0.0, 'time':-1.0},index=[i])\n",
    "    losses_df = pandas.concat([losses_df, dfrow], ignore_index=True)\n",
    "print(losses_df)"
   ]
  },
  {
   "cell_type": "code",
   "execution_count": 5,
   "id": "223e2e2a",
   "metadata": {},
   "outputs": [
    {
     "name": "stdout",
     "output_type": "stream",
     "text": [
      "     coordtype  batchsize  graphconvolutions  mlplayers  repdims optimizer  \\\n",
      "0  rectangular          0                  0          0        0      Adam   \n",
      "1  rectangular          0                  0          0        0      Adam   \n",
      "2  rectangular          0                  0          0        0      Adam   \n",
      "3  rectangular          0                  0          0        0      Adam   \n",
      "4  rectangular          0                  0          0        0      Adam   \n",
      "5  rectangular          0                  0          0        0      Adam   \n",
      "6  rectangular          0                  0          0        0      Adam   \n",
      "7  rectangular          0                  0          0        0      Adam   \n",
      "8  rectangular          0                  0          0        0      Adam   \n",
      "9  rectangular          0                  0          0        0      Adam   \n",
      "\n",
      "   learningrate  trainingrmse  validationrmse          time  \n",
      "0         0.001           0.0             0.0  1.718791e+09  \n",
      "1         0.001           0.0             0.0  1.718791e+09  \n",
      "2         0.001           0.0             0.0  1.718791e+09  \n",
      "3         0.001           0.0             0.0  1.718791e+09  \n",
      "4         0.001           0.0             0.0  1.718791e+09  \n",
      "5         0.001           0.0             0.0 -1.000000e+00  \n",
      "6         0.001           0.0             0.0 -1.000000e+00  \n",
      "7         0.001           0.0             0.0 -1.000000e+00  \n",
      "8         0.001           0.0             0.0 -1.000000e+00  \n",
      "9         0.001           0.0             0.0 -1.000000e+00  \n"
     ]
    }
   ],
   "source": [
    "for i in range(5):\n",
    "    losses_df.at[i,'time']= time.time()\n",
    "print(losses_df)"
   ]
  },
  {
   "cell_type": "code",
   "execution_count": 13,
   "id": "53cde0ba",
   "metadata": {},
   "outputs": [
    {
     "name": "stdout",
     "output_type": "stream",
     "text": [
      "     coordtype  batchsize  graphconvolutions  mlplayers  repdims optimizer  \\\n",
      "0  rectangular          0                  0          0        0      Adam   \n",
      "1  rectangular          0                  0          0        0      Adam   \n",
      "2  rectangular          0                  0          0        0      Adam   \n",
      "3  rectangular          0                  0          0        0      Adam   \n",
      "4  rectangular          0                  0          0        0      Adam   \n",
      "\n",
      "   learningrate  trainingrmse  validationrmse          time  \n",
      "0         0.001           0.0             0.0  1.718791e+09  \n",
      "1         0.001           0.0             0.0  1.718791e+09  \n",
      "2         0.001           0.0             0.0  1.718791e+09  \n",
      "3         0.001           0.0             0.0  1.718791e+09  \n",
      "4         0.001           0.0             0.0  1.718791e+09  \n"
     ]
    }
   ],
   "source": [
    "print( losses_df.loc[losses_df['time'] != -1.0] )"
   ]
  },
  {
   "cell_type": "code",
   "execution_count": 15,
   "id": "b6e58cfd",
   "metadata": {},
   "outputs": [
    {
     "name": "stdout",
     "output_type": "stream",
     "text": [
      "coordtype            rectangular\n",
      "batchsize                      0\n",
      "graphconvolutions              0\n",
      "mlplayers                      0\n",
      "repdims                        0\n",
      "optimizer                   Adam\n",
      "learningrate               0.001\n",
      "trainingrmse                 0.0\n",
      "validationrmse               0.0\n",
      "time                        -1.0\n",
      "Name: 5, dtype: object\n"
     ]
    }
   ],
   "source": [
    "first_unfilled = losses_df.loc[losses_df['time'] == -1.0].iloc[0]\n",
    "print(first_unfilled)"
   ]
  },
  {
   "cell_type": "code",
   "execution_count": 16,
   "id": "061d65d9",
   "metadata": {},
   "outputs": [
    {
     "name": "stdout",
     "output_type": "stream",
     "text": [
      "5\n"
     ]
    }
   ],
   "source": [
    "num_filled = len(losses_df.loc[losses_df['time'] != -1.0].index)\n",
    "print(num_filled)"
   ]
  },
  {
   "cell_type": "code",
   "execution_count": 22,
   "id": "607fba7f",
   "metadata": {},
   "outputs": [
    {
     "name": "stdout",
     "output_type": "stream",
     "text": [
      "tensor([ 10,  31, 100], device='cuda:0', dtype=torch.int32)\n"
     ]
    }
   ],
   "source": [
    "min_batch_size = 10\n",
    "max_batch_size = 100\n",
    "num_batch_sizes = 3\n",
    "device = torch.device('cuda')\n",
    "batch_sizes = torch.exp( torch.linspace( start=math.log(min_batch_size), end=math.log(max_batch_size), steps=num_batch_sizes, dtype=torch.float, device=device ) ).int()\n",
    "print(batch_sizes)"
   ]
  },
  {
   "cell_type": "code",
   "execution_count": 37,
   "id": "7374bd3d",
   "metadata": {},
   "outputs": [
    {
     "name": "stdout",
     "output_type": "stream",
     "text": [
      "making Graph2GraphCNN with layer widths\n",
      "[([7, 2], [1, 2]), ([4, 1], [6, 1])]\n",
      "<generator object Module.parameters at 0x0000022A3DFA7DF0>\n"
     ]
    }
   ],
   "source": [
    "g2gcnn = UniformGraph2GraphCNN(num_node_in_features=7, num_edge_in_features=1, num_node_out_features=1, num_edge_out_features=1, mlp_hidden_width=2, num_node_mlp_hidden_layers=1, num_edge_mlp_hidden_layers=1, num_graph_message_passes=1, dtype=torch.float, device=device)\n",
    "print( g2gcnn.parameters() )"
   ]
  },
  {
   "cell_type": "code",
   "execution_count": 38,
   "id": "78b4e237",
   "metadata": {},
   "outputs": [
    {
     "name": "stdout",
     "output_type": "stream",
     "text": [
      "Parameter containing:\n",
      "tensor([[-0.1939, -0.3765,  0.1866,  0.0676,  0.3715, -0.0574, -0.0509],\n",
      "        [ 0.0451,  0.0827, -0.1825, -0.0102, -0.0823, -0.0942,  0.3748]],\n",
      "       device='cuda:0', requires_grad=True)\n",
      "Parameter containing:\n",
      "tensor([-0.2988, -0.3493], device='cuda:0', requires_grad=True)\n",
      "Parameter containing:\n",
      "tensor([[-0.4958],\n",
      "        [-0.0946]], device='cuda:0', requires_grad=True)\n",
      "Parameter containing:\n",
      "tensor([-0.1067, -0.8184], device='cuda:0', requires_grad=True)\n",
      "Parameter containing:\n",
      "tensor([[-0.3133,  0.4732, -0.4972, -0.1466]], device='cuda:0',\n",
      "       requires_grad=True)\n",
      "Parameter containing:\n",
      "tensor([-0.4985], device='cuda:0', requires_grad=True)\n",
      "Parameter containing:\n",
      "tensor([[-0.2866,  0.1512,  0.2921, -0.2444, -0.0808,  0.0135]],\n",
      "       device='cuda:0', requires_grad=True)\n",
      "Parameter containing:\n",
      "tensor([0.2949], device='cuda:0', requires_grad=True)\n"
     ]
    }
   ],
   "source": [
    "for parameter in g2gcnn.parameters():\n",
    "    print(parameter)"
   ]
  },
  {
   "cell_type": "code",
   "execution_count": 39,
   "id": "ec56e2b1",
   "metadata": {},
   "outputs": [
    {
     "name": "stdout",
     "output_type": "stream",
     "text": [
      "Adam (\n",
      "Parameter Group 0\n",
      "    amsgrad: False\n",
      "    betas: (0.9, 0.999)\n",
      "    capturable: False\n",
      "    differentiable: False\n",
      "    eps: 1e-08\n",
      "    foreach: None\n",
      "    fused: None\n",
      "    lr: 0.001\n",
      "    maximize: False\n",
      "    weight_decay: 0\n",
      ")\n"
     ]
    }
   ],
   "source": [
    "optimizer = torch.optim.Adam( params=g2gcnn.parameters(), lr=learning_rate )\n",
    "print(optimizer)"
   ]
  },
  {
   "cell_type": "code",
   "execution_count": 40,
   "id": "59f3bcb4",
   "metadata": {},
   "outputs": [],
   "source": [
    "optimizer.zero_grad()"
   ]
  },
  {
   "cell_type": "code",
   "execution_count": 41,
   "id": "d253a0d9",
   "metadata": {},
   "outputs": [
    {
     "name": "stdout",
     "output_type": "stream",
     "text": [
      "torch.Size([3, 360, 1]) torch.Size([3, 360, 360, 1])\n"
     ]
    }
   ],
   "source": [
    "h_pred, J_pred = g2gcnn(node_in_features=torch.rand( (3,360,7), dtype=torch.float, device=device ), edge_in_features=torch.rand( (3,360,360,1), dtype=torch.float, device=device ))\n",
    "print(h_pred.size(), J_pred.size())"
   ]
  },
  {
   "cell_type": "code",
   "execution_count": 42,
   "id": "02e8cab5",
   "metadata": {},
   "outputs": [
    {
     "name": "stdout",
     "output_type": "stream",
     "text": [
      "GraphMSELoss(\n",
      "  (simple_mse_loss): MSELoss()\n",
      ")\n"
     ]
    }
   ],
   "source": [
    "loss_fn = GraphMSELoss(num_nodes=360, dtype=torch.float, device=device)\n",
    "print(loss_fn)"
   ]
  },
  {
   "cell_type": "code",
   "execution_count": 43,
   "id": "5b4e5fda",
   "metadata": {},
   "outputs": [
    {
     "name": "stdout",
     "output_type": "stream",
     "text": [
      "tensor(0.3344, device='cuda:0', grad_fn=<DivBackward0>)\n"
     ]
    }
   ],
   "source": [
    "loss = loss_fn(node_features_pred=h_pred, edge_features_pred=J_pred, node_features_target=torch.rand( (3,360,1), dtype=torch.float, device=device ), edge_features_target=torch.rand( (3,360,360,1), dtype=torch.float, device=device ))\n",
    "print(loss)"
   ]
  },
  {
   "cell_type": "code",
   "execution_count": 44,
   "id": "cd895c5f",
   "metadata": {},
   "outputs": [],
   "source": [
    "loss.backward()"
   ]
  },
  {
   "cell_type": "code",
   "execution_count": 45,
   "id": "c24eb566",
   "metadata": {},
   "outputs": [],
   "source": [
    "optimizer.step()"
   ]
  },
  {
   "cell_type": "code",
   "execution_count": null,
   "id": "cbb2679e",
   "metadata": {},
   "outputs": [],
   "source": []
  }
 ],
 "metadata": {
  "kernelspec": {
   "display_name": "Python 3 (ipykernel)",
   "language": "python",
   "name": "python3"
  },
  "language_info": {
   "codemirror_mode": {
    "name": "ipython",
    "version": 3
   },
   "file_extension": ".py",
   "mimetype": "text/x-python",
   "name": "python",
   "nbconvert_exporter": "python",
   "pygments_lexer": "ipython3",
   "version": "3.10.11"
  }
 },
 "nbformat": 4,
 "nbformat_minor": 5
}
