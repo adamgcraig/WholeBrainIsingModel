{
 "cells": [
  {
   "cell_type": "code",
   "execution_count": 1,
   "id": "91ef73c5",
   "metadata": {},
   "outputs": [],
   "source": [
    "import os\n",
    "import pandas\n",
    "import numpy as np\n",
    "import torch\n",
    "import matplotlib.pyplot as plt\n",
    "import math\n",
    "import isingmodellight\n",
    "from isingmodellight import IsingModelLight\n",
    "from scipy import stats\n",
    "import time\n",
    "import hcpdatautils as hcp"
   ]
  },
  {
   "cell_type": "code",
   "execution_count": 2,
   "id": "2f897c86",
   "metadata": {},
   "outputs": [],
   "source": [
    "int_type = torch.int\n",
    "float_type = torch.float\n",
    "device = torch.device('cuda')"
   ]
  },
  {
   "cell_type": "code",
   "execution_count": 3,
   "id": "2264a3c4",
   "metadata": {},
   "outputs": [],
   "source": [
    "file_dir = 'E:\\\\Ising_model_results_daai'"
   ]
  },
  {
   "cell_type": "code",
   "execution_count": 4,
   "id": "958ba369",
   "metadata": {},
   "outputs": [],
   "source": [
    "def depytorch(t:torch.Tensor):\n",
    "    return t.detach().cpu().numpy()"
   ]
  },
  {
   "cell_type": "code",
   "execution_count": 6,
   "id": "c4093f6c",
   "metadata": {},
   "outputs": [
    {
     "name": "stdout",
     "output_type": "stream",
     "text": [
      "tensor([[-1., -1., -1., -1., -1.],\n",
      "        [-1., -1., -1.,  1.,  1.],\n",
      "        [-1., -1.,  1., -1., -1.],\n",
      "        [-1., -1.,  1.,  1.,  1.],\n",
      "        [-1.,  1., -1., -1., -1.],\n",
      "        [-1.,  1., -1.,  1.,  1.],\n",
      "        [-1.,  1.,  1., -1., -1.],\n",
      "        [-1.,  1.,  1.,  1.,  1.],\n",
      "        [ 1., -1., -1., -1., -1.],\n",
      "        [ 1., -1., -1.,  1.,  1.],\n",
      "        [ 1., -1.,  1., -1., -1.],\n",
      "        [ 1., -1.,  1.,  1.,  1.],\n",
      "        [ 1.,  1., -1., -1., -1.],\n",
      "        [ 1.,  1., -1.,  1.,  1.],\n",
      "        [ 1.,  1.,  1., -1., -1.],\n",
      "        [ 1.,  1.,  1.,  1.,  1.],\n",
      "        [ 1.,  1.,  1.,  1.,  1.],\n",
      "        [ 1.,  1.,  1.,  1.,  1.],\n",
      "        [ 1.,  1.,  1.,  1.,  1.],\n",
      "        [ 1.,  1.,  1.,  1.,  1.],\n",
      "        [ 1.,  1.,  1.,  1.,  1.]], device='cuda:0')\n",
      "torch.Size([21, 5])\n"
     ]
    }
   ],
   "source": [
    "simple_ts = torch.tensor(data=[[-1,-1,-1,-1,-1],[-1,-1,-1,1,1],[-1,-1,1,-1,-1],[-1,-1,1,1,1],[-1,1,-1,-1,-1],[-1,1,-1,1,1],[-1,1,1,-1,-1],[-1,1,1,1,1],[1,-1,-1,-1,-1],[1,-1,-1,1,1],[1,-1,1,-1,-1],[1,-1,1,1,1],[1,1,-1,-1,-1],[1,1,-1,1,1],[1,1,1,-1,-1],[1,1,1,1,1],[1,1,1,1,1],[1,1,1,1,1],[1,1,1,1,1],[1,1,1,1,1],[1,1,1,1,1]], dtype=float_type, device=device)\n",
    "print(simple_ts)\n",
    "print( simple_ts.size() )"
   ]
  },
  {
   "cell_type": "code",
   "execution_count": 16,
   "id": "9cd2d5f9",
   "metadata": {},
   "outputs": [
    {
     "name": "stdout",
     "output_type": "stream",
     "text": [
      "means tensor([0.2381, 0.2381, 0.2381, 0.2381, 0.2381], device='cuda:0')\n",
      "uncentered covariances\n",
      "tensor([[1.0000, 0.2381, 0.2381, 0.2381, 0.2381],\n",
      "        [0.2381, 1.0000, 0.2381, 0.2381, 0.2381],\n",
      "        [0.2381, 0.2381, 1.0000, 0.2381, 0.2381],\n",
      "        [0.2381, 0.2381, 0.2381, 1.0000, 1.0000],\n",
      "        [0.2381, 0.2381, 0.2381, 1.0000, 1.0000]], device='cuda:0')\n",
      "centered covarainces\n",
      "tensor([[0.9433, 0.1814, 0.1814, 0.1814, 0.1814],\n",
      "        [0.1814, 0.9433, 0.1814, 0.1814, 0.1814],\n",
      "        [0.1814, 0.1814, 0.9433, 0.1814, 0.1814],\n",
      "        [0.1814, 0.1814, 0.1814, 0.9433, 0.9433],\n",
      "        [0.1814, 0.1814, 0.1814, 0.9433, 0.9433]], device='cuda:0')\n",
      "eigenvalues\n",
      "tensor([2.6774e-09, 7.6190e-01, 7.6190e-01, 1.0656e+00, 2.1271e+00],\n",
      "       device='cuda:0')\n",
      "eigenvectors\n",
      "tensor([[ 0.0000e+00,  0.0000e+00,  8.1650e-01, -5.0775e-01,  2.7481e-01],\n",
      "        [ 4.1617e-08,  7.0711e-01, -4.0825e-01, -5.0775e-01,  2.7481e-01],\n",
      "        [-2.5864e-08, -7.0711e-01, -4.0825e-01, -5.0775e-01,  2.7481e-01],\n",
      "        [-7.0711e-01,  7.0245e-09, -6.7716e-08,  3.3658e-01,  6.2187e-01],\n",
      "        [ 7.0711e-01,  6.6629e-08, -6.7716e-08,  3.3658e-01,  6.2187e-01]],\n",
      "       device='cuda:0')\n"
     ]
    }
   ],
   "source": [
    "simple_mean = torch.mean(simple_ts, dim=0)\n",
    "print( 'means', simple_mean )\n",
    "simple_uncentered_covs = torch.matmul( torch.transpose(simple_ts, dim0=0, dim1=1), simple_ts )/( simple_ts.size(dim=0) )\n",
    "print('uncentered covariances')\n",
    "print(simple_uncentered_covs)\n",
    "simple_centered_covs = simple_uncentered_covs - simple_mean.unsqueeze(dim=0) * simple_mean.unsqueeze(dim=1)\n",
    "print('centered covarainces')\n",
    "print(simple_centered_covs)\n",
    "simple_eigen_vals, simple_eigen_vecs = torch.linalg.eigh(simple_centered_covs)\n",
    "print('eigenvalues')\n",
    "print(simple_eigen_vals)\n",
    "print('eigenvectors')\n",
    "print(simple_eigen_vecs)"
   ]
  },
  {
   "cell_type": "code",
   "execution_count": 17,
   "id": "bde656f2",
   "metadata": {},
   "outputs": [
    {
     "name": "stdout",
     "output_type": "stream",
     "text": [
      "tensor([[-1., -1., -1., -1.],\n",
      "        [-1., -1., -1.,  1.],\n",
      "        [-1., -1.,  1., -1.],\n",
      "        [-1., -1.,  1.,  1.],\n",
      "        [-1.,  1., -1., -1.],\n",
      "        [-1.,  1., -1.,  1.],\n",
      "        [-1.,  1.,  1., -1.],\n",
      "        [-1.,  1.,  1.,  1.],\n",
      "        [ 1., -1., -1., -1.],\n",
      "        [ 1., -1., -1.,  1.],\n",
      "        [ 1., -1.,  1., -1.],\n",
      "        [ 1., -1.,  1.,  1.],\n",
      "        [ 1.,  1., -1., -1.],\n",
      "        [ 1.,  1., -1.,  1.],\n",
      "        [ 1.,  1.,  1., -1.],\n",
      "        [ 1.,  1.,  1.,  1.]], device='cuda:0')\n",
      "means tensor([0., 0., 0., 0.], device='cuda:0')\n",
      "uncentered covariances\n",
      "tensor([[1., 0., 0., 0.],\n",
      "        [0., 1., 0., 0.],\n",
      "        [0., 0., 1., 0.],\n",
      "        [0., 0., 0., 1.]], device='cuda:0')\n",
      "centered covarainces\n",
      "tensor([[1., 0., 0., 0.],\n",
      "        [0., 1., 0., 0.],\n",
      "        [0., 0., 1., 0.],\n",
      "        [0., 0., 0., 1.]], device='cuda:0')\n",
      "eigenvalues\n",
      "tensor([1., 1., 1., 1.], device='cuda:0')\n",
      "eigenvectors\n",
      "tensor([[1., 0., 0., 0.],\n",
      "        [0., 1., 0., 0.],\n",
      "        [0., 0., 1., 0.],\n",
      "        [0., 0., 0., 1.]], device='cuda:0')\n"
     ]
    }
   ],
   "source": [
    "full_rank_ts = simple_ts[0:16,0:4]\n",
    "print( full_rank_ts )\n",
    "full_rank_mean = torch.mean(full_rank_ts, dim=0)\n",
    "print( 'means', full_rank_mean )\n",
    "full_rank_uncentered_covs = torch.matmul( torch.transpose(full_rank_ts, dim0=0, dim1=1), full_rank_ts )/( full_rank_ts.size(dim=0) )\n",
    "print('uncentered covariances')\n",
    "print(full_rank_uncentered_covs)\n",
    "full_rank_centered_covs = full_rank_uncentered_covs - full_rank_mean.unsqueeze(dim=0) * full_rank_mean.unsqueeze(dim=1)\n",
    "print('centered covarainces')\n",
    "print(full_rank_centered_covs)\n",
    "full_rank_eigen_vals, full_rank_eigen_vecs = torch.linalg.eigh(full_rank_centered_covs)\n",
    "print('eigenvalues')\n",
    "print(full_rank_eigen_vals)\n",
    "print('eigenvectors')\n",
    "print(full_rank_eigen_vecs)"
   ]
  },
  {
   "cell_type": "code",
   "execution_count": 18,
   "id": "97cd26aa",
   "metadata": {},
   "outputs": [
    {
     "name": "stdout",
     "output_type": "stream",
     "text": [
      "tensor([[-1., -1., -1., -1.],\n",
      "        [-1., -1., -1.,  1.],\n",
      "        [-1., -1.,  1., -1.],\n",
      "        [-1., -1.,  1.,  1.],\n",
      "        [-1.,  1., -1., -1.],\n",
      "        [-1.,  1., -1.,  1.],\n",
      "        [-1.,  1.,  1., -1.],\n",
      "        [-1.,  1.,  1.,  1.],\n",
      "        [ 1., -1., -1., -1.],\n",
      "        [ 1., -1., -1.,  1.],\n",
      "        [ 1., -1.,  1., -1.],\n",
      "        [ 1., -1.,  1.,  1.],\n",
      "        [ 1.,  1., -1., -1.],\n",
      "        [ 1.,  1., -1.,  1.],\n",
      "        [ 1.,  1.,  1., -1.],\n",
      "        [ 1.,  1.,  1.,  1.],\n",
      "        [ 1.,  1.,  1.,  1.],\n",
      "        [ 1.,  1.,  1.,  1.],\n",
      "        [ 1.,  1.,  1.,  1.],\n",
      "        [ 1.,  1.,  1.,  1.],\n",
      "        [ 1.,  1.,  1.,  1.]], device='cuda:0')\n",
      "means tensor([0.2381, 0.2381, 0.2381, 0.2381], device='cuda:0')\n",
      "uncentered covariances\n",
      "tensor([[1., 0., 0., 0.],\n",
      "        [0., 1., 0., 0.],\n",
      "        [0., 0., 1., 0.],\n",
      "        [0., 0., 0., 1.]], device='cuda:0')\n",
      "centered covarainces\n",
      "tensor([[0.9433, 0.1814, 0.1814, 0.1814],\n",
      "        [0.1814, 0.9433, 0.1814, 0.1814],\n",
      "        [0.1814, 0.1814, 0.9433, 0.1814],\n",
      "        [0.1814, 0.1814, 0.1814, 0.9433]], device='cuda:0')\n",
      "eigenvalues\n",
      "tensor([0.7619, 0.7619, 0.7619, 1.4875], device='cuda:0')\n",
      "eigenvectors\n",
      "tensor([[ 8.6603e-01,  0.0000e+00,  0.0000e+00, -5.0000e-01],\n",
      "        [-2.8868e-01,  8.1650e-01, -4.5642e-08, -5.0000e-01],\n",
      "        [-2.8868e-01, -4.0825e-01, -7.0711e-01, -5.0000e-01],\n",
      "        [-2.8868e-01, -4.0825e-01,  7.0711e-01, -5.0000e-01]], device='cuda:0')\n"
     ]
    }
   ],
   "source": [
    "unique_vars_ts = simple_ts[:,0:4]\n",
    "print( unique_vars_ts )\n",
    "unique_vars_mean = torch.mean(unique_vars_ts, dim=0)\n",
    "print( 'means', unique_vars_mean )\n",
    "unique_vars_uncentered_covs = torch.matmul( torch.transpose(unique_vars_ts, dim0=0, dim1=1), unique_vars_ts )/( unique_vars_ts.size(dim=0) )\n",
    "print('uncentered covariances')\n",
    "print(full_rank_uncentered_covs)\n",
    "unique_vars_centered_covs = unique_vars_uncentered_covs - unique_vars_mean.unsqueeze(dim=0) * unique_vars_mean.unsqueeze(dim=1)\n",
    "print('centered covarainces')\n",
    "print(unique_vars_centered_covs)\n",
    "unique_vars_eigen_vals, unique_vars_eigen_vecs = torch.linalg.eigh(unique_vars_centered_covs)\n",
    "print('eigenvalues')\n",
    "print(unique_vars_eigen_vals)\n",
    "print('eigenvectors')\n",
    "print(unique_vars_eigen_vecs)"
   ]
  },
  {
   "cell_type": "code",
   "execution_count": 21,
   "id": "d87826f2",
   "metadata": {},
   "outputs": [
    {
     "name": "stdout",
     "output_type": "stream",
     "text": [
      "U\n",
      "tensor([[-3.8312e-01,  2.2249e-01,  5.0263e-08, -5.7279e-08,  2.1822e-01],\n",
      "        [-1.0941e-02,  5.0709e-01, -3.0903e-08, -2.9533e-07,  2.1822e-01],\n",
      "        [-3.0088e-01,  7.8233e-03,  3.0127e-01,  2.7550e-01,  2.1822e-01],\n",
      "        [ 7.1295e-02,  2.9242e-01,  3.0127e-01,  2.7550e-01,  2.1822e-01],\n",
      "        [-3.0088e-01,  7.8231e-03, -3.8923e-01,  1.2316e-01,  2.1822e-01],\n",
      "        [ 7.1294e-02,  2.9242e-01, -3.8923e-01,  1.2316e-01,  2.1822e-01],\n",
      "        [-2.1865e-01, -2.0685e-01, -8.7958e-02,  3.9866e-01,  2.1822e-01],\n",
      "        [ 1.5353e-01,  7.7751e-02, -8.7958e-02,  3.9866e-01,  2.1822e-01],\n",
      "        [-3.0088e-01,  7.8228e-03,  8.7958e-02, -3.9866e-01,  2.1822e-01],\n",
      "        [ 7.1295e-02,  2.9242e-01,  8.7958e-02, -3.9866e-01,  2.1822e-01],\n",
      "        [-2.1865e-01, -2.0685e-01,  3.8923e-01, -1.2316e-01,  2.1822e-01],\n",
      "        [ 1.5353e-01,  7.7751e-02,  3.8923e-01, -1.2316e-01,  2.1822e-01],\n",
      "        [-2.1865e-01, -2.0685e-01, -3.0127e-01, -2.7550e-01,  2.1822e-01],\n",
      "        [ 1.5353e-01,  7.7751e-02, -3.0127e-01, -2.7550e-01,  2.1822e-01],\n",
      "        [-1.3641e-01, -4.2152e-01,  6.6683e-08,  2.1904e-07,  2.1822e-01],\n",
      "        [ 2.3577e-01, -1.3692e-01, -2.4062e-08,  2.9962e-08,  2.1822e-01],\n",
      "        [ 2.3577e-01, -1.3692e-01, -2.4062e-08,  2.9962e-08,  2.1822e-01],\n",
      "        [ 2.3577e-01, -1.3692e-01, -2.4062e-08,  2.9962e-08,  2.1822e-01],\n",
      "        [ 2.3577e-01, -1.3692e-01, -2.4062e-08,  2.9962e-08,  2.1822e-01],\n",
      "        [ 2.3577e-01, -1.3692e-01, -2.4062e-08,  2.9962e-08,  2.1822e-01],\n",
      "        [ 2.3577e-01, -1.3692e-01, -2.4062e-08,  2.9962e-08,  2.1822e-01]],\n",
      "       device='cuda:0')\n",
      "S\n",
      "tensor([6.6835e+00, 4.7305e+00, 4.0000e+00, 4.0000e+00, 9.5034e-16],\n",
      "       device='cuda:0')\n",
      "S**2/(m-1)\n",
      "tensor([2.1271e+00, 1.0656e+00, 7.6190e-01, 7.6190e-01, 4.3007e-32],\n",
      "       device='cuda:0')\n",
      "V\n",
      "tensor([[ 2.7481e-01, -5.0775e-01,  1.7592e-01, -7.9732e-01,  1.7746e-09],\n",
      "        [ 2.7481e-01, -5.0775e-01, -7.7846e-01,  2.4631e-01,  3.4756e-08],\n",
      "        [ 2.7481e-01, -5.0775e-01,  6.0254e-01,  5.5101e-01,  3.7512e-09],\n",
      "        [ 6.2187e-01,  3.3657e-01, -1.9741e-07, -3.1624e-07, -7.0711e-01],\n",
      "        [ 6.2187e-01,  3.3657e-01, -1.8840e-07, -3.0800e-07,  7.0711e-01]],\n",
      "       device='cuda:0')\n"
     ]
    }
   ],
   "source": [
    "U, S, V = torch.pca_lowrank(simple_ts, q=5, niter=1000)\n",
    "print('U')\n",
    "print(U)\n",
    "print('S')\n",
    "print(S)\n",
    "print('S**2/(m-1)')\n",
    "print(  S.square()/( simple_ts.size(dim=0) )  )\n",
    "print('V')\n",
    "print(V)"
   ]
  },
  {
   "cell_type": "code",
   "execution_count": null,
   "id": "52b06753",
   "metadata": {},
   "outputs": [],
   "source": []
  }
 ],
 "metadata": {
  "kernelspec": {
   "display_name": "Python 3 (ipykernel)",
   "language": "python",
   "name": "python3"
  },
  "language_info": {
   "codemirror_mode": {
    "name": "ipython",
    "version": 3
   },
   "file_extension": ".py",
   "mimetype": "text/x-python",
   "name": "python",
   "nbconvert_exporter": "python",
   "pygments_lexer": "ipython3",
   "version": "3.10.15"
  }
 },
 "nbformat": 4,
 "nbformat_minor": 5
}
